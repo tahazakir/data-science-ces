{
  "metadata": {
    "kernelspec": {
      "name": "python",
      "display_name": "Python (Pyodide)",
      "language": "python"
    },
    "language_info": {
      "codemirror_mode": {
        "name": "python",
        "version": 3
      },
      "file_extension": ".py",
      "mimetype": "text/x-python",
      "name": "python",
      "nbconvert_exporter": "python",
      "pygments_lexer": "ipython3",
      "version": "3.8"
    }
  },
  "nbformat_minor": 5,
  "nbformat": 4,
  "cells": [
    {
      "id": "36f43f39",
      "cell_type": "markdown",
      "source": "# Data Science and Visualization Course\n## Module 1: Python Programming and Notebooks",
      "metadata": {}
    },
    {
      "id": "42b3b3d7",
      "cell_type": "markdown",
      "source": "### Setting Up Programming Environment\nIn this course, we will use Jupyter Notebooks to write and run Python code. Jupyter Notebooks allow us to combine code, text, and visualizations in one document. You can write your code in cells and execute them one by one.",
      "metadata": {}
    },
    {
      "id": "42c97b23",
      "cell_type": "markdown",
      "source": "### Introduction to Python\nPython is a popular programming language known for its readability and versatility. Let's start with some basic concepts.",
      "metadata": {}
    },
    {
      "id": "f7a07d9a",
      "cell_type": "markdown",
      "source": "#### Variables\nVariables are used to store data. You can create a variable by assigning a value to it using the `=` operator.",
      "metadata": {}
    },
    {
      "id": "dc1f7aa6",
      "cell_type": "code",
      "source": "# Example of a variable\na = 10\nb = 5.5\nc = 'Hello, World!'\n\nprint(a)\nprint(b)\nprint(c)",
      "metadata": {
        "trusted": true
      },
      "outputs": [
        {
          "name": "stdout",
          "text": "10\n5.5\nHello, World!\n",
          "output_type": "stream"
        }
      ],
      "execution_count": 1
    },
    {
      "id": "b07dcf74",
      "cell_type": "markdown",
      "source": "**Exercise:** Create variables to store your name, age, and favorite color, then print them out.",
      "metadata": {}
    },
    {
      "id": "b1d60317",
      "cell_type": "code",
      "source": "# Your code here\nname = ''  # Replace with your name\nage = 0  # Replace with your age\nfavorite_color = ''  # Replace with your favorite color\n\nprint(name)\nprint(age)\nprint(favorite_color)",
      "metadata": {},
      "outputs": [],
      "execution_count": null
    },
    {
      "id": "5c3a92ca",
      "cell_type": "markdown",
      "source": "#### Data Types\nPython has several data types, including integers, floats, strings, and booleans.",
      "metadata": {}
    },
    {
      "id": "332d77fe",
      "cell_type": "code",
      "source": "# Example of different data types\ninteger_var = 10\nfloat_var = 5.5\nstring_var = 'Python'\nboolean_var = True\n\nprint(type(integer_var))\nprint(type(float_var))\nprint(type(string_var))\nprint(type(boolean_var))",
      "metadata": {},
      "outputs": [],
      "execution_count": null
    },
    {
      "id": "c3f3dcee",
      "cell_type": "markdown",
      "source": "**Exercise:** Create variables of different data types and print their types using the `type()` function.",
      "metadata": {}
    },
    {
      "id": "3a865cf0",
      "cell_type": "code",
      "source": "# Your code here\n# Create a variable of type integer\n# Create a variable of type float\n# Create a variable of type string\n# Create a variable of type boolean\n\n# Print the types",
      "metadata": {},
      "outputs": [],
      "execution_count": null
    },
    {
      "id": "4ef51fa3",
      "cell_type": "markdown",
      "source": "#### Operators\nOperators are used to perform operations on variables and values. Python supports arithmetic, comparison, and logical operators.",
      "metadata": {}
    },
    {
      "id": "8ede4381",
      "cell_type": "code",
      "source": "# Example of operators\nx = 10\ny = 5\n\n# Arithmetic operators\nprint('x + y =', x + y)\nprint('x - y =', x - y)\nprint('x * y =', x * y)\nprint('x / y =', x / y)\n\n# Comparison operators\nprint('x > y is', x > y)\nprint('x < y is', x < y)\n\n# Logical operators\nprint('x > 5 and y < 10 is', x > 5 and y < 10)\nprint('x > 5 or y < 2 is', x > 5 or y < 2)",
      "metadata": {},
      "outputs": [],
      "execution_count": null
    },
    {
      "id": "e1e8fa33",
      "cell_type": "markdown",
      "source": "**Exercise:** Use different operators to perform operations on variables and print the results.",
      "metadata": {}
    },
    {
      "id": "74f049de",
      "cell_type": "code",
      "source": "# Your code here\n# Create two variables\n# Perform arithmetic operations\n# Perform comparison operations\n# Perform logical operations\n\n# Print the results",
      "metadata": {},
      "outputs": [],
      "execution_count": null
    },
    {
      "id": "b5a1fec8",
      "cell_type": "markdown",
      "source": "### Basic Control Flow\nControl flow allows you to control the execution of your code. The two main types are conditional statements and loops.",
      "metadata": {}
    },
    {
      "id": "9c30d795",
      "cell_type": "markdown",
      "source": "#### Conditional Statements\nConditional statements allow you to execute certain code based on whether a condition is true or false.",
      "metadata": {}
    },
    {
      "id": "2bca8ed1",
      "cell_type": "code",
      "source": "# Example of a conditional statement\nx = 10\n\nif x > 5:\n    print('x is greater than 5')\nelse:\n    print('x is less than or equal to 5')",
      "metadata": {},
      "outputs": [],
      "execution_count": null
    },
    {
      "id": "455e0b8e",
      "cell_type": "markdown",
      "source": "**Exercise:** Write a conditional statement that prints whether a number is positive, negative, or zero.",
      "metadata": {}
    },
    {
      "id": "aea1c918",
      "cell_type": "code",
      "source": "# Your code here\nnumber = 0  # Replace with any number\n\n# Write a conditional statement",
      "metadata": {},
      "outputs": [],
      "execution_count": null
    },
    {
      "id": "48dbd1fd",
      "cell_type": "markdown",
      "source": "#### Loops\nLoops allow you to execute a block of code multiple times. The two main types are `for` loops and `while` loops.",
      "metadata": {}
    },
    {
      "id": "79166251",
      "cell_type": "code",
      "source": "# Example of a for loop\nfor i in range(5):\n    print(i)\n\n# Example of a while loop\ncount = 0\nwhile count < 5:\n    print(count)\n    count += 1",
      "metadata": {},
      "outputs": [],
      "execution_count": null
    },
    {
      "id": "69b53d0c",
      "cell_type": "markdown",
      "source": "**Exercise:** Write a loop that prints the numbers from 1 to 10.",
      "metadata": {}
    },
    {
      "id": "7c7256e4",
      "cell_type": "code",
      "source": "# Your code here\n# Write a for loop or a while loop",
      "metadata": {},
      "outputs": [],
      "execution_count": null
    }
  ]
}