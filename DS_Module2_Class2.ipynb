{
  "metadata": {
    "kernelspec": {
      "name": "python",
      "display_name": "Python (Pyodide)",
      "language": "python"
    },
    "language_info": {
      "codemirror_mode": {
        "name": "python",
        "version": 3
      },
      "file_extension": ".py",
      "mimetype": "text/x-python",
      "name": "python",
      "nbconvert_exporter": "python",
      "pygments_lexer": "ipython3",
      "version": "3.8"
    }
  },
  "nbformat_minor": 5,
  "nbformat": 4,
  "cells": [
    {
      "id": "a1f73015",
      "cell_type": "markdown",
      "source": "# Data Science and Visualization Course\n## Module 2: Data Handling with Pandas (Part 1+2)",
      "metadata": {}
    },
    {
      "id": "26344a84",
      "cell_type": "markdown",
      "source": "### Introducing Pandas Series and DataFrames\nPandas is a powerful library in Python used for data manipulation and analysis. A Series is a 1-dimensional labeled data structure. A DataFrame is a 2-dimensional labeled data structure with columns of potentially different types.",
      "metadata": {}
    },
    {
      "id": "a4ceb341-8260-4471-9ccc-a8c371006190",
      "cell_type": "code",
      "source": "import pandas as pd\n\nnames = ['Ali', 'Alina', 'Aleem']\n\n# How to create a series\nseries = pd.Series(names)\nprint(series, \"\\n\")\n\ndata = {\n    'Name': ['Ali', 'Alina', 'Aleem'],\n    'Age': [25, 30, 35],\n    'City': ['Karachi', 'Lahore', 'Pindi']\n}\n\n# How to create a DataFrame\ndf = pd.DataFrame(data)\nprint(df)",
      "metadata": {
        "trusted": true
      },
      "outputs": [
        {
          "name": "stdout",
          "text": "0      Ali\n1    Alina\n2    Aleem\ndtype: object \n\n    Name  Age     City\n0    Ali   25  Karachi\n1  Alina   30   Lahore\n2  Aleem   35    Pindi\n",
          "output_type": "stream"
        }
      ],
      "execution_count": 61
    },
    {
      "id": "5afbc42d",
      "cell_type": "markdown",
      "source": "**Exercise:** Create a DataFrame with data about your favorite movies. Include columns for the movie title, director, and release year, then print the DataFrame.",
      "metadata": {}
    },
    {
      "id": "e632db52",
      "cell_type": "code",
      "source": "# Your code here\n# Create a dictionary with data about your favorite movies\n\nd = {\"Eng\": ['Oppenheimer', 'Wall-E'] , \"Urdu\": ['Maula Jatt', 'Waar']}\n\n# Use the dictionary to create a DataFrame\ndf = pd.DataFrame(d)\n# Print the DataFrame\n\nprint(df)",
      "metadata": {
        "trusted": true
      },
      "outputs": [
        {
          "name": "stdout",
          "text": "           Eng        Urdu\n0  Oppenheimer  Maula Jatt\n1       Wall-E        Waar\n",
          "output_type": "stream"
        }
      ],
      "execution_count": 63
    },
    {
      "id": "47fb4a84",
      "cell_type": "markdown",
      "source": "### Loading Data from CSV Files\nCSV (Comma-Separated Values) files are a common format for storing data. Pandas makes it easy to load data from a CSV file into a DataFrame.",
      "metadata": {}
    },
    {
      "id": "c1d08ac4-9690-4acf-a354-dcee43a25561",
      "cell_type": "code",
      "source": "# Example of loading data from a CSV file\nsong_df = pd.read_csv('songs.csv')\n\n# The head() function displays the first rows of a dataset\nsong_df.head()",
      "metadata": {
        "trusted": true
      },
      "outputs": [
        {
          "execution_count": 67,
          "output_type": "execute_result",
          "data": {
            "text/plain": "     Artist Name       Song Name    Genre\n0  Billie Eilish         Bad Guy      Pop\n1   Taylor Swift        Cardigan    Indie\n2          Drake  In My Feelings      NaN\n3    Post Malone             NaN  Hip Hop\n4     Bruno Mars     Uptown Funk     Funk",
            "text/html": "<div>\n<style scoped>\n    .dataframe tbody tr th:only-of-type {\n        vertical-align: middle;\n    }\n\n    .dataframe tbody tr th {\n        vertical-align: top;\n    }\n\n    .dataframe thead th {\n        text-align: right;\n    }\n</style>\n<table border=\"1\" class=\"dataframe\">\n  <thead>\n    <tr style=\"text-align: right;\">\n      <th></th>\n      <th>Artist Name</th>\n      <th>Song Name</th>\n      <th>Genre</th>\n    </tr>\n  </thead>\n  <tbody>\n    <tr>\n      <th>0</th>\n      <td>Billie Eilish</td>\n      <td>Bad Guy</td>\n      <td>Pop</td>\n    </tr>\n    <tr>\n      <th>1</th>\n      <td>Taylor Swift</td>\n      <td>Cardigan</td>\n      <td>Indie</td>\n    </tr>\n    <tr>\n      <th>2</th>\n      <td>Drake</td>\n      <td>In My Feelings</td>\n      <td>NaN</td>\n    </tr>\n    <tr>\n      <th>3</th>\n      <td>Post Malone</td>\n      <td>NaN</td>\n      <td>Hip Hop</td>\n    </tr>\n    <tr>\n      <th>4</th>\n      <td>Bruno Mars</td>\n      <td>Uptown Funk</td>\n      <td>Funk</td>\n    </tr>\n  </tbody>\n</table>\n</div>"
          },
          "metadata": {}
        }
      ],
      "execution_count": 67
    },
    {
      "id": "a3e996a7",
      "cell_type": "markdown",
      "source": "### Cleaning and Transforming Data\nData often needs to be cleaned and transformed before analysis. This includes dealing with missing values and formatting data.",
      "metadata": {}
    },
    {
      "id": "d010574d",
      "cell_type": "markdown",
      "source": "#### Dealing with Missing Values\nMissing values are common in real-world data. Pandas provides several ways to handle missing values, such as filling them with a specific value or dropping rows/columns with missing values.",
      "metadata": {}
    },
    {
      "id": "594ac0a4-5be4-4b46-9df7-7e968f6a257f",
      "cell_type": "code",
      "source": "# Fill missing values with a specific value\n# song_df_filled = song_df.fillna({'Song Name': 'Unknown Song'})  \n# print(\"\\nDataFrame with missing values filled:\")\n# print(song_df_filled.head())\n\n# Drop rows with missing values\nsong_df_dropped = song_df.dropna()\nprint('\\nDataFrame with rows with missing values dropped:')\nprint(song_df_dropped.head())",
      "metadata": {
        "trusted": true
      },
      "outputs": [
        {
          "name": "stdout",
          "text": "\nDataFrame with rows with missing values dropped:\n     Artist Name           Song Name  Genre\n0  Billie Eilish             Bad Guy    Pop\n1   Taylor Swift            Cardigan  Indie\n4     Bruno Mars         Uptown Funk   Funk\n5  Billie Eilish          Ocean Eyes    Pop\n6     The Weeknd  Can't Feel My Face    R&B\n",
          "output_type": "stream"
        }
      ],
      "execution_count": 68
    },
    {
      "id": "33d4c5d4",
      "cell_type": "markdown",
      "source": "#### Formatting Data\nData often needs to be formatted for consistency. This can include renaming columns, and more. ",
      "metadata": {}
    },
    {
      "id": "46a50fdd-6d5b-4cb3-8f31-e562090b4166",
      "cell_type": "code",
      "source": "# Example of formatting data\n\n# Rename columns in the song DataFrame from 'Song Name' to 'Song' and from 'Artist Name' to 'Artist'\nsong_df = song_df.rename(columns={'Song Name': 'Song', 'Artist Name': 'Artist'})\nprint('\\nDataFrame with renamed columns:')\nsong_df.head()",
      "metadata": {
        "trusted": true
      },
      "outputs": [],
      "execution_count": null
    },
    {
      "id": "8d62d866-493f-4ec8-995c-95f6f6e0b6eb",
      "cell_type": "markdown",
      "source": "### Selecting and Adding Data - Continued into Lesson 4\n\nSelecting and adding data is necessary to work with individual rows and columms from the DataFrame. ",
      "metadata": {}
    },
    {
      "id": "d67ca9da-1032-471d-983d-e1292f627dac",
      "cell_type": "code",
      "source": "# Welcome Back\n\nimport pandas as pd\n\n# Save data from the csv file into a variable\nsong_df = pd.read_csv('songs.csv')\n\nsong_df.head()",
      "metadata": {
        "trusted": true
      },
      "outputs": [
        {
          "execution_count": 3,
          "output_type": "execute_result",
          "data": {
            "text/plain": "     Artist Name       Song Name    Genre\n0  Billie Eilish         Bad Guy      Pop\n1   Taylor Swift        Cardigan    Indie\n2          Drake  In My Feelings      NaN\n3    Post Malone             NaN  Hip Hop\n4     Bruno Mars     Uptown Funk     Funk",
            "text/html": "<div>\n<style scoped>\n    .dataframe tbody tr th:only-of-type {\n        vertical-align: middle;\n    }\n\n    .dataframe tbody tr th {\n        vertical-align: top;\n    }\n\n    .dataframe thead th {\n        text-align: right;\n    }\n</style>\n<table border=\"1\" class=\"dataframe\">\n  <thead>\n    <tr style=\"text-align: right;\">\n      <th></th>\n      <th>Artist Name</th>\n      <th>Song Name</th>\n      <th>Genre</th>\n    </tr>\n  </thead>\n  <tbody>\n    <tr>\n      <th>0</th>\n      <td>Billie Eilish</td>\n      <td>Bad Guy</td>\n      <td>Pop</td>\n    </tr>\n    <tr>\n      <th>1</th>\n      <td>Taylor Swift</td>\n      <td>Cardigan</td>\n      <td>Indie</td>\n    </tr>\n    <tr>\n      <th>2</th>\n      <td>Drake</td>\n      <td>In My Feelings</td>\n      <td>NaN</td>\n    </tr>\n    <tr>\n      <th>3</th>\n      <td>Post Malone</td>\n      <td>NaN</td>\n      <td>Hip Hop</td>\n    </tr>\n    <tr>\n      <th>4</th>\n      <td>Bruno Mars</td>\n      <td>Uptown Funk</td>\n      <td>Funk</td>\n    </tr>\n  </tbody>\n</table>\n</div>"
          },
          "metadata": {}
        }
      ],
      "execution_count": 3
    },
    {
      "id": "de534cc5-9057-4840-8c5c-88b1f53b08e7",
      "cell_type": "code",
      "source": "# Example of selecting a column from the DataFrame\ncolumn = song_df['Artist Name']\n\n# Print the column -- ask me about with print vs without print for the .head() function, \n# whoever asks first at the relevant time may get a chocolate\nprint(column.head())",
      "metadata": {
        "trusted": true
      },
      "outputs": [
        {
          "name": "stdout",
          "text": "0    Billie Eilish\n1     Taylor Swift\n2            Drake\n3      Post Malone\n4       Bruno Mars\nName: Artist Name, dtype: object\n",
          "output_type": "stream"
        }
      ],
      "execution_count": 28
    },
    {
      "id": "0fb06120-6e6f-4d13-80fd-838107b6b6b5",
      "cell_type": "code",
      "source": "# Example of selecting multiple columns from the DataFrame\ncolumns = song_df[['Artist Name', 'Song Name']]\n\ncolumns.head()",
      "metadata": {
        "trusted": true
      },
      "outputs": [
        {
          "execution_count": 29,
          "output_type": "execute_result",
          "data": {
            "text/plain": "     Artist Name       Song Name\n0  Billie Eilish         Bad Guy\n1   Taylor Swift        Cardigan\n2          Drake  In My Feelings\n3    Post Malone             NaN\n4     Bruno Mars     Uptown Funk",
            "text/html": "<div>\n<style scoped>\n    .dataframe tbody tr th:only-of-type {\n        vertical-align: middle;\n    }\n\n    .dataframe tbody tr th {\n        vertical-align: top;\n    }\n\n    .dataframe thead th {\n        text-align: right;\n    }\n</style>\n<table border=\"1\" class=\"dataframe\">\n  <thead>\n    <tr style=\"text-align: right;\">\n      <th></th>\n      <th>Artist Name</th>\n      <th>Song Name</th>\n    </tr>\n  </thead>\n  <tbody>\n    <tr>\n      <th>0</th>\n      <td>Billie Eilish</td>\n      <td>Bad Guy</td>\n    </tr>\n    <tr>\n      <th>1</th>\n      <td>Taylor Swift</td>\n      <td>Cardigan</td>\n    </tr>\n    <tr>\n      <th>2</th>\n      <td>Drake</td>\n      <td>In My Feelings</td>\n    </tr>\n    <tr>\n      <th>3</th>\n      <td>Post Malone</td>\n      <td>NaN</td>\n    </tr>\n    <tr>\n      <th>4</th>\n      <td>Bruno Mars</td>\n      <td>Uptown Funk</td>\n    </tr>\n  </tbody>\n</table>\n</div>"
          },
          "metadata": {}
        }
      ],
      "execution_count": 29
    },
    {
      "id": "e449eab8-9e67-40b4-a035-1026a5de7fe3",
      "cell_type": "code",
      "source": "# Example of selecting a row from the DataFrame by index\nrow = song_df.iloc[0]\nprint(\"Row \\n\")\nprint(row,\"\\n\")\n\n# Example of selecting multiple rows from the DataFrame by index\nrows = song_df.iloc[0:3]\nprint(\"Rows \\n\")\nprint(rows,\"\\n\")",
      "metadata": {
        "trusted": true
      },
      "outputs": [
        {
          "name": "stdout",
          "text": "Row \n\nArtist Name    Billie Eilish\nSong Name            Bad Guy\nGenre                    Pop\nName: 0, dtype: object \n\nRows \n\n     Artist Name       Song Name  Genre\n0  Billie Eilish         Bad Guy    Pop\n1   Taylor Swift        Cardigan  Indie\n2          Drake  In My Feelings    NaN \n\n",
          "output_type": "stream"
        }
      ],
      "execution_count": 30
    },
    {
      "id": "cfa6d4e7-8256-4a7a-9338-86628c5fd938",
      "cell_type": "code",
      "source": "# Example of adding a row to the DataFrame\nnew_row = {\"Artist Name\": \"Abdul Hannan\", \"Song Name\": \"Iraaday\", \"Genre\": \"Pop\"}\n\n# Convert the dictionary to a DataFrame\nnew_row_df = pd.DataFrame([new_row])\n\n# Concat the new row to the DataFrame\nsong_df = pd.concat([song_df, new_row_df], ignore_index=True)\n\nsong_df.tail()",
      "metadata": {
        "trusted": true
      },
      "outputs": [],
      "execution_count": null
    },
    {
      "id": "6406108b-4dde-4c6f-aad5-8be94e0c3e88",
      "cell_type": "markdown",
      "source": "### Filtering Data\nFiltering data is used to select rows that meet some specific conditions. This is useful when you want to focus on specific parts of your data.",
      "metadata": {}
    },
    {
      "id": "c352c6f3-9176-458b-9298-31fc4eaafa15",
      "cell_type": "code",
      "source": "# Filter rows where Genre is 'Pop'\npop_songs = song_df[song_df['Genre'] == 'Pop']\nprint(\"Pop Songs:\")\npop_songs.head()",
      "metadata": {
        "trusted": true
      },
      "outputs": [
        {
          "name": "stdout",
          "text": "Pop Songs:\n",
          "output_type": "stream"
        },
        {
          "execution_count": 5,
          "output_type": "execute_result",
          "data": {
            "text/plain": "     Artist Name      Song Name Genre\n0  Billie Eilish        Bad Guy   Pop\n5  Billie Eilish     Ocean Eyes   Pop\n7      Lady Gaga    Bad Romance   Pop\n8  Billie Eilish  Bury a Friend   Pop\n9     Ed Sheeran    Galway Girl   Pop",
            "text/html": "<div>\n<style scoped>\n    .dataframe tbody tr th:only-of-type {\n        vertical-align: middle;\n    }\n\n    .dataframe tbody tr th {\n        vertical-align: top;\n    }\n\n    .dataframe thead th {\n        text-align: right;\n    }\n</style>\n<table border=\"1\" class=\"dataframe\">\n  <thead>\n    <tr style=\"text-align: right;\">\n      <th></th>\n      <th>Artist Name</th>\n      <th>Song Name</th>\n      <th>Genre</th>\n    </tr>\n  </thead>\n  <tbody>\n    <tr>\n      <th>0</th>\n      <td>Billie Eilish</td>\n      <td>Bad Guy</td>\n      <td>Pop</td>\n    </tr>\n    <tr>\n      <th>5</th>\n      <td>Billie Eilish</td>\n      <td>Ocean Eyes</td>\n      <td>Pop</td>\n    </tr>\n    <tr>\n      <th>7</th>\n      <td>Lady Gaga</td>\n      <td>Bad Romance</td>\n      <td>Pop</td>\n    </tr>\n    <tr>\n      <th>8</th>\n      <td>Billie Eilish</td>\n      <td>Bury a Friend</td>\n      <td>Pop</td>\n    </tr>\n    <tr>\n      <th>9</th>\n      <td>Ed Sheeran</td>\n      <td>Galway Girl</td>\n      <td>Pop</td>\n    </tr>\n  </tbody>\n</table>\n</div>"
          },
          "metadata": {}
        }
      ],
      "execution_count": 5
    },
    {
      "id": "2dd03573-d934-4d06-8704-d81903576481",
      "cell_type": "code",
      "source": "# Filter rows where Artist is 'Drake' or 'Kendrick Lamar'\nrappers = song_df[song_df['Artist Name'].isin(['Drake', 'Kendrick Lamar'])]\nprint(\"Songs by Drake or Kendrick:\")\nrappers.head()",
      "metadata": {
        "trusted": true
      },
      "outputs": [],
      "execution_count": null
    },
    {
      "id": "c16ccc99-4974-465a-b397-27841dcfd7a9",
      "cell_type": "markdown",
      "source": "### Sorting Data\nSorting data helps you arrange your data in a particular order, either ascending or descending. This is useful for organizing your data and can even help identify patterns.",
      "metadata": {}
    },
    {
      "id": "224516a4-9c0b-47d1-b311-50f53c84cf02",
      "cell_type": "code",
      "source": "# Sort by Artist name\nsorted_by_artist = song_df.sort_values(by='Artist Name', ascending=True)\nprint(\"Sorted by Artist Name:\")\n# Tip: Passing a number in the head function will result in head displaying that number of rows\nsorted_by_artist.head(7)",
      "metadata": {
        "trusted": true
      },
      "outputs": [
        {
          "name": "stdout",
          "text": "Sorted by Artist Name:\n",
          "output_type": "stream"
        },
        {
          "execution_count": 11,
          "output_type": "execute_result",
          "data": {
            "text/plain": "      Artist Name             Song Name Genre\n41          Adele                 Hello   Pop\n31          Adele  Set Fire to the Rain   Pop\n21          Adele      Someone Like You   Pop\n24          Adele   Rolling in the Deep   NaN\n18          Adele               Skyfall   Pop\n0   Billie Eilish               Bad Guy   Pop\n27  Billie Eilish   Everything I Wanted   Pop",
            "text/html": "<div>\n<style scoped>\n    .dataframe tbody tr th:only-of-type {\n        vertical-align: middle;\n    }\n\n    .dataframe tbody tr th {\n        vertical-align: top;\n    }\n\n    .dataframe thead th {\n        text-align: right;\n    }\n</style>\n<table border=\"1\" class=\"dataframe\">\n  <thead>\n    <tr style=\"text-align: right;\">\n      <th></th>\n      <th>Artist Name</th>\n      <th>Song Name</th>\n      <th>Genre</th>\n    </tr>\n  </thead>\n  <tbody>\n    <tr>\n      <th>41</th>\n      <td>Adele</td>\n      <td>Hello</td>\n      <td>Pop</td>\n    </tr>\n    <tr>\n      <th>31</th>\n      <td>Adele</td>\n      <td>Set Fire to the Rain</td>\n      <td>Pop</td>\n    </tr>\n    <tr>\n      <th>21</th>\n      <td>Adele</td>\n      <td>Someone Like You</td>\n      <td>Pop</td>\n    </tr>\n    <tr>\n      <th>24</th>\n      <td>Adele</td>\n      <td>Rolling in the Deep</td>\n      <td>NaN</td>\n    </tr>\n    <tr>\n      <th>18</th>\n      <td>Adele</td>\n      <td>Skyfall</td>\n      <td>Pop</td>\n    </tr>\n    <tr>\n      <th>0</th>\n      <td>Billie Eilish</td>\n      <td>Bad Guy</td>\n      <td>Pop</td>\n    </tr>\n    <tr>\n      <th>27</th>\n      <td>Billie Eilish</td>\n      <td>Everything I Wanted</td>\n      <td>Pop</td>\n    </tr>\n  </tbody>\n</table>\n</div>"
          },
          "metadata": {}
        }
      ],
      "execution_count": 11
    },
    {
      "id": "e420fd7e-95b3-4c47-9b41-9bf1d53e604d",
      "cell_type": "markdown",
      "source": "## Exercise\n\nFilter the DataFrame to include only songs in the 'Pop' genre, then sort these songs by 'Song Name' in ascending order, and then select only the first 3 rows of this DataFrame and print the result.",
      "metadata": {}
    },
    {
      "id": "eb485c93-4329-484f-a2fb-1cec92f641b1",
      "cell_type": "code",
      "source": "import pandas as pd\n\ndf = pd.read_csv('songs.csv')\n\n# Your code here",
      "metadata": {
        "trusted": true
      },
      "outputs": [],
      "execution_count": null
    },
    {
      "id": "72da37b8-6bbd-48ab-a559-04570e9bd8ae",
      "cell_type": "markdown",
      "source": "## Bonus Question 1\n\nWrite a Python script to select the \"Song Name\" column from the DataFrame and iterate over it in a for loop. Check how many song names contain the word \"Money\" and output the count of these songs.\n\n### Steps:\n1. Select the \"Song Name\" column from the DataFrame.\n2. Remove missing values from the \"Song Name\" column by using the `dropna` function.\n3. Use a for loop to iterate over each song name in the selected column.\n4. Using an if statement check if the word \"Money\" is present in the song name.\n5. Count the number of song names containing the word \"Money\".\n6. Output the count.",
      "metadata": {}
    },
    {
      "id": "ed4ccba8-2741-4048-bab3-e52afb5cf4e1",
      "cell_type": "code",
      "source": "# Hints: Ask ChatGPT on how to iterate over values in a DataFrame's column or how to use an if statement\n# to check if a substring (Money) is present in a string (Name of the Song)\n\n# Your code here",
      "metadata": {
        "trusted": true
      },
      "outputs": [],
      "execution_count": null
    },
    {
      "id": "7a1032b7-af8a-4197-b676-c15a35a2270e",
      "cell_type": "markdown",
      "source": "## Bonus Question 2\n\nWrite a Python script to find out the artist with the most missing data (empty cells in the Song Names column) in this dataset using the concepts learnt today.\n\n### Tips:\n1. The `sort_values` function and the `head`/`tail` functions are your best friends for this task.\n2. sort_values also sorts empty cells in the table.",
      "metadata": {}
    },
    {
      "id": "2af9b3ad-c080-462b-8640-67a1e19f3151",
      "cell_type": "code",
      "source": "# Your code here",
      "metadata": {
        "trusted": true
      },
      "outputs": [],
      "execution_count": null
    }
  ]
}