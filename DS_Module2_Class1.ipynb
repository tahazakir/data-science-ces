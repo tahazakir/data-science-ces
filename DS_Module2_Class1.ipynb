{
  "metadata": {
    "kernelspec": {
      "name": "python",
      "display_name": "Python (Pyodide)",
      "language": "python"
    },
    "language_info": {
      "codemirror_mode": {
        "name": "python",
        "version": 3
      },
      "file_extension": ".py",
      "mimetype": "text/x-python",
      "name": "python",
      "nbconvert_exporter": "python",
      "pygments_lexer": "ipython3",
      "version": "3.8"
    }
  },
  "nbformat_minor": 5,
  "nbformat": 4,
  "cells": [
    {
      "id": "a1f73015",
      "cell_type": "markdown",
      "source": "# Data Science and Visualization Course\n## Module 2: Data Handling with Pandas (Part 1)",
      "metadata": {}
    },
    {
      "id": "26344a84",
      "cell_type": "markdown",
      "source": "### Introducing Pandas Series and DataFrames\nPandas is a powerful library in Python used for data manipulation and analysis. A Series is a 1-dimensional labeled data structure. A DataFrame is a 2-dimensional labeled data structure with columns of potentially different types.",
      "metadata": {}
    },
    {
      "id": "a4ceb341-8260-4471-9ccc-a8c371006190",
      "cell_type": "code",
      "source": "import pandas as pd\n\nnames = ['Ali', 'Alina', 'Aleem']\n\n# How to create a series\nseries = pd.Series(names)\nprint(series, \"\\n\")\n\ndata = {\n    'Name': ['Ali', 'Alina', 'Aleem'],\n    'Age': [25, 30, 35],\n    'City': ['Karachi', 'Lahore', 'Pindi']\n}\n\n# How to create a DataFrame\ndf = pd.DataFrame(data)\nprint(df)",
      "metadata": {
        "trusted": true
      },
      "outputs": [],
      "execution_count": null
    },
    {
      "id": "5afbc42d",
      "cell_type": "markdown",
      "source": "**Exercise:** Create a DataFrame with data about your favorite movies. Include columns for the movie title, director, and release year, then print the DataFrame.",
      "metadata": {}
    },
    {
      "id": "e632db52",
      "cell_type": "code",
      "source": "# Your code here\n# Create a dictionary with data about your favorite movies\n# Use the dictionary to create a DataFrame\n# Print the DataFrame",
      "metadata": {},
      "outputs": [],
      "execution_count": null
    },
    {
      "id": "47fb4a84",
      "cell_type": "markdown",
      "source": "### Loading Data from CSV Files\nCSV (Comma-Separated Values) files are a common format for storing data. Pandas makes it easy to load data from a CSV file into a DataFrame.",
      "metadata": {}
    },
    {
      "id": "c1d08ac4-9690-4acf-a354-dcee43a25561",
      "cell_type": "code",
      "source": "# Example of loading data from a CSV file\nsong_df = pd.read_csv('songs.csv')\n\n# The head() function displays the first rows of a dataset\nsong_df.head()",
      "metadata": {
        "trusted": true
      },
      "outputs": [
        {
          "execution_count": 42,
          "output_type": "execute_result",
          "data": {
            "text/plain": "     Artist Name       Song Name    Genre\n0  Billie Eilish         Bad Guy      Pop\n1   Taylor Swift        Cardigan    Indie\n2          Drake  In My Feelings      NaN\n3    Post Malone             NaN  Hip Hop\n4     Bruno Mars     Uptown Funk     Funk",
            "text/html": "<div>\n<style scoped>\n    .dataframe tbody tr th:only-of-type {\n        vertical-align: middle;\n    }\n\n    .dataframe tbody tr th {\n        vertical-align: top;\n    }\n\n    .dataframe thead th {\n        text-align: right;\n    }\n</style>\n<table border=\"1\" class=\"dataframe\">\n  <thead>\n    <tr style=\"text-align: right;\">\n      <th></th>\n      <th>Artist Name</th>\n      <th>Song Name</th>\n      <th>Genre</th>\n    </tr>\n  </thead>\n  <tbody>\n    <tr>\n      <th>0</th>\n      <td>Billie Eilish</td>\n      <td>Bad Guy</td>\n      <td>Pop</td>\n    </tr>\n    <tr>\n      <th>1</th>\n      <td>Taylor Swift</td>\n      <td>Cardigan</td>\n      <td>Indie</td>\n    </tr>\n    <tr>\n      <th>2</th>\n      <td>Drake</td>\n      <td>In My Feelings</td>\n      <td>NaN</td>\n    </tr>\n    <tr>\n      <th>3</th>\n      <td>Post Malone</td>\n      <td>NaN</td>\n      <td>Hip Hop</td>\n    </tr>\n    <tr>\n      <th>4</th>\n      <td>Bruno Mars</td>\n      <td>Uptown Funk</td>\n      <td>Funk</td>\n    </tr>\n  </tbody>\n</table>\n</div>"
          },
          "metadata": {}
        }
      ],
      "execution_count": 42
    },
    {
      "id": "a3e996a7",
      "cell_type": "markdown",
      "source": "### Cleaning and Transforming Data\nData often needs to be cleaned and transformed before analysis. This includes dealing with missing values and formatting data.",
      "metadata": {}
    },
    {
      "id": "d010574d",
      "cell_type": "markdown",
      "source": "#### Dealing with Missing Values\nMissing values are common in real-world data. Pandas provides several ways to handle missing values, such as filling them with a specific value or dropping rows/columns with missing values.",
      "metadata": {}
    },
    {
      "id": "594ac0a4-5be4-4b46-9df7-7e968f6a257f",
      "cell_type": "code",
      "source": "# Fill missing values with a specific value\nsong_df_filled = song_df.fillna({'Song Name': 'Unknown Song'})  \nprint(\"\\nDataFrame with missing values filled:\")\nprint(song_df_filled.head())\n\n# Drop rows with missing values\nsong_df_dropped = song_df.dropna()\nprint('\\nDataFrame with rows with missing values dropped:')\nprint(song_df_dropped.head())",
      "metadata": {
        "trusted": true
      },
      "outputs": [],
      "execution_count": null
    },
    {
      "id": "324e303c",
      "cell_type": "markdown",
      "source": "**Exercise:** Create a DataFrame with some missing values. Fill the missing values with appropriate values and print the DataFrame. Then, create another DataFrame by dropping rows with missing values and print it.",
      "metadata": {}
    },
    {
      "id": "fd056b05",
      "cell_type": "code",
      "source": "# This is a DataFrame with missing values.\ndata = {\n    'Name': ['Ali', 'Alina', 'Aleem'],\n    'Age': [25, 30, None],\n    'City': [None, 'Lahore', 'Pindi']\n}\n\ndf = pd.DataFrame(data)\n\n# Drop rows with missing values and save it in fixed_df\n# Print both DataFrames\n\n#Your code here",
      "metadata": {},
      "outputs": [],
      "execution_count": null
    },
    {
      "id": "33d4c5d4",
      "cell_type": "markdown",
      "source": "#### Formatting Data\nData often needs to be formatted for consistency. This can include renaming columns, and more. ",
      "metadata": {}
    },
    {
      "id": "46a50fdd-6d5b-4cb3-8f31-e562090b4166",
      "cell_type": "code",
      "source": "# Example of formatting data\n\n# Rename columns in the song DataFrame from 'Song Name' to 'Song' and from 'Artist Name' to 'Artist'\nsong_df = song_df.rename(columns={'Song Name': 'Song', 'Artist Name': 'Artist'})\nprint('\\nDataFrame with renamed columns:')\nsong_df.head()",
      "metadata": {
        "trusted": true
      },
      "outputs": [],
      "execution_count": null
    },
    {
      "id": "8d62d866-493f-4ec8-995c-95f6f6e0b6eb",
      "cell_type": "markdown",
      "source": "#### Selecting and Adding Data\n\nSelecting and adding data is necessary to work with individual rows and columms from the DataFrame. ",
      "metadata": {}
    },
    {
      "id": "be9afe87-4380-4d7a-b340-e93c6019d635",
      "cell_type": "code",
      "source": "# Example of selecting a column from the DataFrame\ncolumn = song_df['Artist']\n\n# Print the column\nprint(\"Column \\n\", column.head(), \"\\n\")\n\n# Example of selecting a row from the DataFrame by index\nrow = song_df.iloc[0]\nprint(\"Row \\n\", row, \"\\n\")\n\n# Example of selecting multiple rows from the DataFrame by index\nrows = song_df.iloc[0:3]\nprint(\"Rows \\n\", rows, \"\\n\")\n\n# Example of adding a row to the DataFrame\nnew_row = {\"Artist\": \"Abdul Hannan\", \"Song\": \"Iraaday\", \"Genre\": \"Pop\"}\n\n# Convert the dictionary to a DataFrame\nnew_row_df = pd.DataFrame([new_row])\n\n# Concat the new row to the DataFrame\nsong_df = pd.concat([song_df, new_row_df], ignore_index=True)\n\nsong_df.tail()",
      "metadata": {
        "trusted": true
      },
      "outputs": [
        {
          "name": "stdout",
          "text": "Column \n 0    Billie Eilish\n1     Taylor Swift\n2            Drake\n3      Post Malone\n4       Bruno Mars\nName: Artist, dtype: object \n\nRow \n Artist    Billie Eilish\nSong            Bad Guy\nGenre               Pop\nName: 0, dtype: object \n\nRows \n           Artist            Song  Genre\n0  Billie Eilish         Bad Guy    Pop\n1   Taylor Swift        Cardigan  Indie\n2          Drake  In My Feelings    NaN \n\n",
          "output_type": "stream"
        },
        {
          "execution_count": 47,
          "output_type": "execute_result",
          "data": {
            "text/plain": "            Artist                Song    Genre\n56      Bruno Mars  That's What I Like      Pop\n57  Kendrick Lamar         Money Trees  Hip Hop\n58    Abdul Hannan             Iraaday      Pop\n59    Abdul Hannan             Iraaday      Pop\n60    Abdul Hannan             Iraaday      Pop",
            "text/html": "<div>\n<style scoped>\n    .dataframe tbody tr th:only-of-type {\n        vertical-align: middle;\n    }\n\n    .dataframe tbody tr th {\n        vertical-align: top;\n    }\n\n    .dataframe thead th {\n        text-align: right;\n    }\n</style>\n<table border=\"1\" class=\"dataframe\">\n  <thead>\n    <tr style=\"text-align: right;\">\n      <th></th>\n      <th>Artist</th>\n      <th>Song</th>\n      <th>Genre</th>\n    </tr>\n  </thead>\n  <tbody>\n    <tr>\n      <th>56</th>\n      <td>Bruno Mars</td>\n      <td>That's What I Like</td>\n      <td>Pop</td>\n    </tr>\n    <tr>\n      <th>57</th>\n      <td>Kendrick Lamar</td>\n      <td>Money Trees</td>\n      <td>Hip Hop</td>\n    </tr>\n    <tr>\n      <th>58</th>\n      <td>Abdul Hannan</td>\n      <td>Iraaday</td>\n      <td>Pop</td>\n    </tr>\n    <tr>\n      <th>59</th>\n      <td>Abdul Hannan</td>\n      <td>Iraaday</td>\n      <td>Pop</td>\n    </tr>\n    <tr>\n      <th>60</th>\n      <td>Abdul Hannan</td>\n      <td>Iraaday</td>\n      <td>Pop</td>\n    </tr>\n  </tbody>\n</table>\n</div>"
          },
          "metadata": {}
        }
      ],
      "execution_count": 47
    },
    {
      "id": "72da37b8-6bbd-48ab-a559-04570e9bd8ae",
      "cell_type": "markdown",
      "source": "## Bonus Question\n\nWrite a Python script to select the \"Song Name\" column from the DataFrame and iterate over it in a for loop. Check how many song names contain the word \"Money\" and output the count of these songs.\n\n### Steps:\n1. Select the \"Song\" column from the DataFrame.\n2. Remove missing values from the \"Song\" column by using the `dropna` function.\n3. Use a for loop to iterate over each song name in the selected column.\n4. Using an if statement check if the word \"Money\" is present in the song name.\n5. Count the number of song names containing the word \"Money\".\n6. Output the count.",
      "metadata": {}
    },
    {
      "id": "ed4ccba8-2741-4048-bab3-e52afb5cf4e1",
      "cell_type": "code",
      "source": "# Hints: Ask ChatGPT on how to iterate over values in a DataFrame's column or how to use an if statement\n# to check if a substring (Money) is present in a string (Name of the Song)\n\n# Your code here",
      "metadata": {
        "trusted": true
      },
      "outputs": [],
      "execution_count": null
    }
  ]
}