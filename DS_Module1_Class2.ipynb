{
  "metadata": {
    "kernelspec": {
      "name": "python",
      "display_name": "Python (Pyodide)",
      "language": "python"
    },
    "language_info": {
      "codemirror_mode": {
        "name": "python",
        "version": 3
      },
      "file_extension": ".py",
      "mimetype": "text/x-python",
      "name": "python",
      "nbconvert_exporter": "python",
      "pygments_lexer": "ipython3",
      "version": "3.8"
    }
  },
  "nbformat_minor": 5,
  "nbformat": 4,
  "cells": [
    {
      "id": "2d3adbe9",
      "cell_type": "markdown",
      "source": "# Data Science and Visualization Course\n## Module 1: Python Programming and Notebooks (Part 2)",
      "metadata": {}
    },
    {
      "id": "36950b7d",
      "cell_type": "markdown",
      "source": "### Working with Lists\nLists are used to store multiple items in a single variable. Lists are one of the most commonly used data structures in Python.",
      "metadata": {}
    },
    {
      "id": "df6920ca",
      "cell_type": "code",
      "source": "# Example of a list\nfruits = ['apple', 'banana', 'cherry']\nprint(fruits)",
      "metadata": {
        "trusted": true
      },
      "outputs": [
        {
          "name": "stdout",
          "text": "['apple', 'banana', 'cherry']\n",
          "output_type": "stream"
        }
      ],
      "execution_count": 1
    },
    {
      "id": "3a265a6e",
      "cell_type": "markdown",
      "source": "#### List Operations\nYou can perform various operations on lists, such as adding, removing, and accessing elements.",
      "metadata": {}
    },
    {
      "id": "b8b9e482-7c49-4ca1-9bae-ad6e5dc5eb2a",
      "cell_type": "raw",
      "source": "# Adding elements to a list\nfruits.append('orange')\nprint(fruits)\n\n# Removing elements from a list\nfruits.remove('banana')\nprint(fruits)\n\n# Accessing elements in a list\nfirst_fruit = fruits[0]\nprint(first_fruit)",
      "metadata": {}
    },
    {
      "id": "02971418",
      "cell_type": "markdown",
      "source": "**Exercise:** Create a list of your favorite movies. Add two more movies to the list, remove one, and print the final list.",
      "metadata": {}
    },
    {
      "id": "28d71dc3",
      "cell_type": "code",
      "source": "# Your code here\n# Create a list of favorite movies\nfavorite_movies = ['']\n\n# Add two more movies\n# Remove one movie\n# Print the final list",
      "metadata": {},
      "outputs": [],
      "execution_count": null
    },
    {
      "id": "270b0560",
      "cell_type": "markdown",
      "source": "### Working with Dictionaries\nDictionaries are used to store data values in key-value pairs. A dictionary is a collection which is ordered, changeable, and does not allow duplicates.",
      "metadata": {}
    },
    {
      "id": "32a9253f",
      "cell_type": "code",
      "source": "# Example of a dictionary\ncaptain = {'name': 'Babar', 'age': 29, 'teams': ['Pakistan', 'Zalmi']}\nprint(captain)",
      "metadata": {
        "trusted": true
      },
      "outputs": [
        {
          "name": "stdout",
          "text": "{'name': 'Babar', 'age': 29, 'teams': ['Pakistan', 'Zalmi']}\n",
          "output_type": "stream"
        }
      ],
      "execution_count": 2
    },
    {
      "id": "9aeaf532",
      "cell_type": "markdown",
      "source": "#### Dictionary Operations\nYou can perform various operations on dictionaries, such as adding, removing, and accessing elements.",
      "metadata": {}
    },
    {
      "id": "4f7f1e3a-773a-4ca4-b1d9-d9fc93b63206",
      "cell_type": "code",
      "source": "# Adding elements to a dictionary\ncaptain['trophies'] = 0\nprint(captain)\n\n# Removing elements from a dictionary\ncaptain.pop('age')\nprint(captain)\n\n# Accessing elements in a dictionary\ncaptain_name = captain['name']\nprint(captain_name)",
      "metadata": {
        "trusted": true
      },
      "outputs": [],
      "execution_count": null
    },
    {
      "id": "88f4f3d3",
      "cell_type": "markdown",
      "source": "**Exercise:** Create a dictionary to store information about your favorite book. Include keys such as title, author, and year. Add a key for genre, then remove the year key, and print the final dictionary.",
      "metadata": {}
    },
    {
      "id": "e4e42bb2",
      "cell_type": "code",
      "source": "# Your code here\n# Create a dictionary for a favorite book\nfavorite_book = {'title': '', 'author': '', 'year': 0}\n\n# Add a key for genre\n# Remove the year key\n# Print the final dictionary",
      "metadata": {},
      "outputs": [],
      "execution_count": null
    },
    {
      "id": "cb03b8ad-400b-4745-ab68-ec38d25e3fbb",
      "cell_type": "markdown",
      "source": "## Bonus Task \n\nYou have a list of dictionaries where each dictionary represents a movie and its ratings from different critics. Your task is to analyze this data and determine the following through code:\n\n1. The average rating of each movie.\n2. The number of critics for each movie.",
      "metadata": {}
    },
    {
      "id": "fd447626-2ee1-4f51-b066-de35f4a96a55",
      "cell_type": "code",
      "source": "movies = [\n    {\"title\": \"The Matrix\", \"ratings\": {\"critic1\": 9, \"critic2\": 8.5, \"critic3\": 9.5, \"critic4\": 8.5}},\n    {\"title\": \"Barbie\", \"ratings\": {\"critic1\": 8, \"critic2\": 8.5, \"critic3\": 9}},\n    {\"title\": \"Godzilla Minus One\", \"ratings\": {\"critic1\": 9.5, \"critic2\": 9, \"critic3\": 10}},\n    {\"title\": \"Knives Out\", \"ratings\": {\"critic1\": 8, \"critic2\": 8.5}},\n]\n\n# Your code here",
      "metadata": {
        "trusted": true
      },
      "outputs": [],
      "execution_count": null
    },
    {
      "id": "c67e726e",
      "cell_type": "markdown",
      "source": "### Introduction to Generative AI\nGenerative AI refers to a class of artificial intelligence models that can generate new content. These models can create text, images, and even code. Here are some examples of how AI can assist with coding:",
      "metadata": {}
    },
    {
      "id": "edb4b2f4",
      "cell_type": "markdown",
      "source": "- **Code Completion:** AI can help complete code snippets based on the context.\n- **Bug Detection:** AI can identify potential bugs and suggest fixes.\n- **Code Generation:** AI can generate boilerplate code for common tasks.\n- **Documentation:** AI can assist in writing documentation and comments for code.",
      "metadata": {}
    },
    {
      "id": "a406a30e",
      "cell_type": "markdown",
      "source": "### Using ChatGPT for Coding Assistance\nChatGPT, developed by OpenAI, is a powerful tool that can assist with coding tasks. Here are the steps to use ChatGPT for coding help:",
      "metadata": {}
    },
    {
      "id": "283974df",
      "cell_type": "markdown",
      "source": "1. **Start with a Clear Question:** When you need help, start by asking a clear and specific question.\n2. **Provide Context:** Provide as much context as possible, including any relevant code snippets or error messages.\n3. **Iterate:** If the first response is not helpful, try rephrasing your question or providing more details.\n4. **Use Examples:** Ask for examples or clarifications if needed.",
      "metadata": {}
    }
  ]
}